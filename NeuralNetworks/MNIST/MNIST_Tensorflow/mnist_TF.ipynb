{
  "nbformat": 4,
  "nbformat_minor": 0,
  "metadata": {
    "colab": {
      "provenance": [],
      "gpuType": "T4",
      "authorship_tag": "ABX9TyOK3mN9tboeCQW3NZOIhaei",
      "include_colab_link": true
    },
    "kernelspec": {
      "name": "python3",
      "display_name": "Python 3"
    },
    "language_info": {
      "name": "python"
    },
    "accelerator": "GPU"
  },
  "cells": [
    {
      "cell_type": "markdown",
      "metadata": {
        "id": "view-in-github",
        "colab_type": "text"
      },
      "source": [
        "<a href=\"https://colab.research.google.com/github/samitmohan/ML/blob/master/mnist_TF.ipynb\" target=\"_parent\"><img src=\"https://colab.research.google.com/assets/colab-badge.svg\" alt=\"Open In Colab\"/></a>"
      ]
    },
    {
      "cell_type": "code",
      "execution_count": 2,
      "metadata": {
        "id": "qLj9hYzCWaWo"
      },
      "outputs": [],
      "source": [
        "import tensorflow as tf\n",
        "from tensorflow.keras import layers, models\n",
        "from tensorflow.keras.datasets import mnist\n",
        "from tensorflow.keras.utils import to_categorical\n",
        "from PIL import Image\n",
        "import matplotlib.pyplot as plt\n",
        "from pathlib import Path\n",
        "import numpy as np"
      ]
    },
    {
      "cell_type": "code",
      "source": [
        "(x_train, y_train), (x_test, y_test) = mnist.load_data()\n",
        "print(\"--- Original Data ---\")\n",
        "print(\"x_train_orig dtype:\", x_train.dtype) # Should be uint8\n",
        "print(\"x_train_orig shape:\", x_train.shape) # Should be (60000, 28, 28)\n",
        "print(\"x_train_orig min:\", np.min(x_train)) # Should be 0\n",
        "print(\"x_train_orig max:\", np.max(x_train)) # Should be 255"
      ],
      "metadata": {
        "colab": {
          "base_uri": "https://localhost:8080/"
        },
        "id": "8O0JM7avWzCy",
        "outputId": "a93a2514-e68c-4bbc-f461-06d59708f272"
      },
      "execution_count": 3,
      "outputs": [
        {
          "output_type": "stream",
          "name": "stdout",
          "text": [
            "--- Original Data ---\n",
            "x_train_orig dtype: uint8\n",
            "x_train_orig shape: (60000, 28, 28)\n",
            "x_train_orig min: 0\n",
            "x_train_orig max: 255\n"
          ]
        }
      ]
    },
    {
      "cell_type": "code",
      "source": [
        "print(plt.imshow(x_test[0])) # 7"
      ],
      "metadata": {
        "colab": {
          "base_uri": "https://localhost:8080/",
          "height": 448
        },
        "id": "YrgZK5uxWfN_",
        "outputId": "851da8f8-6c9d-4acd-e2c6-a5428a0230a8"
      },
      "execution_count": 4,
      "outputs": [
        {
          "output_type": "stream",
          "name": "stdout",
          "text": [
            "AxesImage(shape=(28, 28))\n"
          ]
        },
        {
          "output_type": "display_data",
          "data": {
            "text/plain": [
              "<Figure size 640x480 with 1 Axes>"
            ],
            "image/png": "[encoded data removed]"
          },
          "metadata": {}
        }
      ]
    },
    {
      "cell_type": "code",
      "source": [
        "plt.figure(figsize=(10, 5))\n",
        "for i in range(10):\n",
        "  plt.subplot(2, 5, i+1)\n",
        "  plt.imshow(x_train[i], cmap='gray')\n",
        "  plt.title(f\"Label: {y_train[i]}\")\n",
        "  plt.axis('off')\n",
        "plt.tight_layout()\n",
        "plt.show()\n"
      ],
      "metadata": {
        "colab": {
          "base_uri": "https://localhost:8080/",
          "height": 473
        },
        "id": "9qCKfzlBXO11",
        "outputId": "0dbe2192-8d3b-472d-8a04-3980d405bfca"
      },
      "execution_count": 5,
      "outputs": [
        {
          "output_type": "display_data",
          "data": {
            "text/plain": [
              "<Figure size 1000x500 with 10 Axes>"
            ],
            "image/png": "[encoded data removed]"
          },
          "metadata": {}
        }
      ]
    },
    {
      "cell_type": "code",
      "source": [
        "print(x_train.dtype)\n",
        "print(x_train.shape)\n",
        "print(\"x_train min before normalising\", np.min(x_train))\n",
        "print(\"x_train max before normalising\", np.max(x_train))"
      ],
      "metadata": {
        "colab": {
          "base_uri": "https://localhost:8080/"
        },
        "id": "ETdzvTvDZkS6",
        "outputId": "8a6a57dd-1c2a-4e13-a21a-9b767295c567"
      },
      "execution_count": 6,
      "outputs": [
        {
          "output_type": "stream",
          "name": "stdout",
          "text": [
            "uint8\n",
            "(60000, 28, 28)\n",
            "x_train min before normalising 0\n",
            "x_train max before normalising 255\n"
          ]
        }
      ]
    },
    {
      "cell_type": "code",
      "source": [
        "# normalise data to [0,1]\n",
        "\n",
        "x_train_normalized = np.expand_dims(x_train, axis=-1).astype('float32') / 255.0\n",
        "x_test_normalized = np.expand_dims(x_test, axis=-1).astype('float32') / 255.0\n",
        "print(\"--- After Normalization ---\")\n",
        "print(\"x_train_normalized dtype:\", x_train_normalized.dtype) # Should be float32\n",
        "print(\"x_train_normalized shape:\", x_train_normalized.shape) # Should be (60000, 28, 28, 1)\n",
        "print(\"x_train_normalized min:\", np.min(x_train_normalized)) # Should be 0.0\n",
        "print(\"x_train_normalized max:\", np.max(x_train_normalized)) # Should be 1.0\n",
        "print(\"-\" * 30)"
      ],
      "metadata": {
        "colab": {
          "base_uri": "https://localhost:8080/"
        },
        "id": "mZ0P6PC-WnW1",
        "outputId": "85859a04-84d9-4c55-80e4-3805af278ccf"
      },
      "execution_count": 7,
      "outputs": [
        {
          "output_type": "stream",
          "name": "stdout",
          "text": [
            "--- After Normalization ---\n",
            "x_train_normalized dtype: float32\n",
            "x_train_normalized shape: (60000, 28, 28, 1)\n",
            "x_train_normalized min: 0.0\n",
            "x_train_normalized max: 1.0\n",
            "------------------------------\n"
          ]
        }
      ]
    },
    {
      "cell_type": "code",
      "source": [
        "# This vector is all zeros except at the index corresponding to the original integer label, where it places a 1..\n",
        "# One hot encoding-> predict probabilties for each class (loss function expects this format)\n",
        "\n",
        "y_train_categorical = to_categorical(y_train, num_classes=10)\n",
        "y_test_categorical = to_categorical(y_test, num_classes=10)\n",
        "first_test_img = x_test[0]\n",
        "first_test_label_int = y_test[0]\n",
        "first_test_label_one_hot = y_test_categorical[0]\n",
        "print(f\"Original Integer Label for first test image: {first_test_label_int}\")\n",
        "print(f\"One-Hot Encoded Label for first test image: {first_test_label_one_hot}\")\n",
        "\n",
        "# Display the image\n",
        "plt.figure()\n",
        "plt.imshow(first_test_img, cmap='gray')\n",
        "plt.title(f\"Actual Digit: {first_test_label_int}\")\n",
        "plt.axis('off')\n",
        "plt.show()\n",
        "\n",
        "plt.figure()\n",
        "plt.imshow(first_test_label_one_hot.reshape(1, 10), cmap='viridis', aspect='auto') # Reshape to make it 2D\n",
        "plt.title(\"Visualization of One-Hot Encoded Label (not an image)\")\n",
        "plt.xlabel(\"Class Index\")\n",
        "plt.yticks([])\n",
        "plt.colorbar()\n",
        "plt.show()"
      ],
      "metadata": {
        "colab": {
          "base_uri": "https://localhost:8080/",
          "height": 919
        },
        "id": "w0JNiK4cYlsW",
        "outputId": "22a815bb-82b5-4048-d5ee-90b37ef42867"
      },
      "execution_count": 10,
      "outputs": [
        {
          "output_type": "stream",
          "name": "stdout",
          "text": [
            "Original Integer Label for first test image: 7\n",
            "One-Hot Encoded Label for first test image: [0. 0. 0. 0. 0. 0. 0. 1. 0. 0.]\n"
          ]
        },
        {
          "output_type": "display_data",
          "data": {
            "text/plain": [
              "<Figure size 640x480 with 1 Axes>"
            ],
            "image/png": "[encoded data removed]"
          },
          "metadata": {}
        },
        {
          "output_type": "display_data",
          "data": {
            "text/plain": [
              "<Figure size 640x480 with 2 Axes>"
            ],
            "image/png": "[encoded data removed]"
          },
          "metadata": {}
        }
      ]
    },
    {
      "cell_type": "code",
      "source": [
        "# Model defination\n",
        "'''\n",
        "akes a 28x28x1 grayscale image as input.\n",
        "Applies two blocks of convolution (to learn features) and max pooling (to downsample and make features more robust).\n",
        "Flattens the resulting 2D feature maps into a 1D vector.\n",
        "Passes this vector through a fully connected layer with 10 neurons and a softmax activation to produce a probability distribution over the 10 digit classes.\n",
        "'''\n",
        "model = models.Sequential([\n",
        "    layers.Conv2D(32, (3,3), activation='relu', padding='same', input_shape=(28,28,1)),\n",
        "    layers.MaxPooling2D((2, 2)),\n",
        "    layers.Conv2D(64, (3,3), activation='relu', padding='same'),\n",
        "    layers.MaxPooling2D((2, 2)),\n",
        "    layers.Flatten(),\n",
        "    # Dense : takes raw output scores from 10 neurons and converts them into prob distr.\n",
        "    # Input Shape to this layer : 3136 features (7 * 7 * 64 channels), Output Shape : (10)\n",
        "    layers.Dense(10, activation='softmax')])"
      ],
      "metadata": {
        "id": "bJNqv32lbpCP"
      },
      "execution_count": 13,
      "outputs": []
    },
    {
      "cell_type": "code",
      "source": [
        "adam_optimiser = tf.keras.optimizers.Adam(learning_rate=0.001)\n",
        "model.compile(optimizer=adam_optimiser, loss='categorical_crossentropy', metrics=['accuracy'])\n",
        "model.summary()"
      ],
      "metadata": {
        "colab": {
          "base_uri": "https://localhost:8080/",
          "height": 341
        },
        "id": "gyOt0jKpeDn_",
        "outputId": "bd43431b-4447-4acf-9047-2fc825105c18"
      },
      "execution_count": 15,
      "outputs": [
        {
          "output_type": "display_data",
          "data": {
            "text/plain": [
              "\u001b[1mModel: \"sequential_2\"\u001b[0m\n"
            ],
            "text/html": [
              "<pre style=\"white-space:pre;overflow-x:auto;line-height:normal;font-family:Menlo,'DejaVu Sans Mono',consolas,'Courier New',monospace\"><span style=\"font-weight: bold\">Model: \"sequential_2\"</span>\n",
              "</pre>\n"
            ]
          },
          "metadata": {}
        },
        {
          "output_type": "display_data",
          "data": {
            "text/plain": [
              "┏━━━━━━━━━━━━━━━━━━━━━━━━━━━━━━━━━┳━━━━━━━━━━━━━━━━━━━━━━━━┳━━━━━━━━━━━━━━━┓\n",
              "┃\u001b[1m \u001b[0m\u001b[1mLayer (type)                   \u001b[0m\u001b[1m \u001b[0m┃\u001b[1m \u001b[0m\u001b[1mOutput Shape          \u001b[0m\u001b[1m \u001b[0m┃\u001b[1m \u001b[0m\u001b[1m      Param #\u001b[0m\u001b[1m \u001b[0m┃\n",
              "┡━━━━━━━━━━━━━━━━━━━━━━━━━━━━━━━━━╇━━━━━━━━━━━━━━━━━━━━━━━━╇━━━━━━━━━━━━━━━┩\n",
              "│ conv2d_4 (\u001b[38;5;33mConv2D\u001b[0m)               │ (\u001b[38;5;45mNone\u001b[0m, \u001b[38;5;34m28\u001b[0m, \u001b[38;5;34m28\u001b[0m, \u001b[38;5;34m32\u001b[0m)     │           \u001b[38;5;34m320\u001b[0m │\n",
              "├─────────────────────────────────┼────────────────────────┼───────────────┤\n",
              "│ max_pooling2d_4 (\u001b[38;5;33mMaxPooling2D\u001b[0m)  │ (\u001b[38;5;45mNone\u001b[0m, \u001b[38;5;34m14\u001b[0m, \u001b[38;5;34m14\u001b[0m, \u001b[38;5;34m32\u001b[0m)     │             \u001b[38;5;34m0\u001b[0m │\n",
              "├─────────────────────────────────┼────────────────────────┼───────────────┤\n",
              "│ conv2d_5 (\u001b[38;5;33mConv2D\u001b[0m)               │ (\u001b[38;5;45mNone\u001b[0m, \u001b[38;5;34m14\u001b[0m, \u001b[38;5;34m14\u001b[0m, \u001b[38;5;34m64\u001b[0m)     │        \u001b[38;5;34m18,496\u001b[0m │\n",
              "├─────────────────────────────────┼────────────────────────┼───────────────┤\n",
              "│ max_pooling2d_5 (\u001b[38;5;33mMaxPooling2D\u001b[0m)  │ (\u001b[38;5;45mNone\u001b[0m, \u001b[38;5;34m7\u001b[0m, \u001b[38;5;34m7\u001b[0m, \u001b[38;5;34m64\u001b[0m)       │             \u001b[38;5;34m0\u001b[0m │\n",
              "├─────────────────────────────────┼────────────────────────┼───────────────┤\n",
              "│ flatten_2 (\u001b[38;5;33mFlatten\u001b[0m)             │ (\u001b[38;5;45mNone\u001b[0m, \u001b[38;5;34m3136\u001b[0m)           │             \u001b[38;5;34m0\u001b[0m │\n",
              "├─────────────────────────────────┼────────────────────────┼───────────────┤\n",
              "│ dense_2 (\u001b[38;5;33mDense\u001b[0m)                 │ (\u001b[38;5;45mNone\u001b[0m, \u001b[38;5;34m10\u001b[0m)             │        \u001b[38;5;34m31,370\u001b[0m │\n",
              "└─────────────────────────────────┴────────────────────────┴───────────────┘\n"
            ],
            "text/html": [
              "<pre style=\"white-space:pre;overflow-x:auto;line-height:normal;font-family:Menlo,'DejaVu Sans Mono',consolas,'Courier New',monospace\">┏━━━━━━━━━━━━━━━━━━━━━━━━━━━━━━━━━┳━━━━━━━━━━━━━━━━━━━━━━━━┳━━━━━━━━━━━━━━━┓\n",
              "┃<span style=\"font-weight: bold\"> Layer (type)                    </span>┃<span style=\"font-weight: bold\"> Output Shape           </span>┃<span style=\"font-weight: bold\">       Param # </span>┃\n",
              "┡━━━━━━━━━━━━━━━━━━━━━━━━━━━━━━━━━╇━━━━━━━━━━━━━━━━━━━━━━━━╇━━━━━━━━━━━━━━━┩\n",
              "│ conv2d_4 (<span style=\"color: #0087ff; text-decoration-color: #0087ff\">Conv2D</span>)               │ (<span style=\"color: #00d7ff; text-decoration-color: #00d7ff\">None</span>, <span style=\"color: #00af00; text-decoration-color: #00af00\">28</span>, <span style=\"color: #00af00; text-decoration-color: #00af00\">28</span>, <span style=\"color: #00af00; text-decoration-color: #00af00\">32</span>)     │           <span style=\"color: #00af00; text-decoration-color: #00af00\">320</span> │\n",
              "├─────────────────────────────────┼────────────────────────┼───────────────┤\n",
              "│ max_pooling2d_4 (<span style=\"color: #0087ff; text-decoration-color: #0087ff\">MaxPooling2D</span>)  │ (<span style=\"color: #00d7ff; text-decoration-color: #00d7ff\">None</span>, <span style=\"color: #00af00; text-decoration-color: #00af00\">14</span>, <span style=\"color: #00af00; text-decoration-color: #00af00\">14</span>, <span style=\"color: #00af00; text-decoration-color: #00af00\">32</span>)     │             <span style=\"color: #00af00; text-decoration-color: #00af00\">0</span> │\n",
              "├─────────────────────────────────┼────────────────────────┼───────────────┤\n",
              "│ conv2d_5 (<span style=\"color: #0087ff; text-decoration-color: #0087ff\">Conv2D</span>)               │ (<span style=\"color: #00d7ff; text-decoration-color: #00d7ff\">None</span>, <span style=\"color: #00af00; text-decoration-color: #00af00\">14</span>, <span style=\"color: #00af00; text-decoration-color: #00af00\">14</span>, <span style=\"color: #00af00; text-decoration-color: #00af00\">64</span>)     │        <span style=\"color: #00af00; text-decoration-color: #00af00\">18,496</span> │\n",
              "├─────────────────────────────────┼────────────────────────┼───────────────┤\n",
              "│ max_pooling2d_5 (<span style=\"color: #0087ff; text-decoration-color: #0087ff\">MaxPooling2D</span>)  │ (<span style=\"color: #00d7ff; text-decoration-color: #00d7ff\">None</span>, <span style=\"color: #00af00; text-decoration-color: #00af00\">7</span>, <span style=\"color: #00af00; text-decoration-color: #00af00\">7</span>, <span style=\"color: #00af00; text-decoration-color: #00af00\">64</span>)       │             <span style=\"color: #00af00; text-decoration-color: #00af00\">0</span> │\n",
              "├─────────────────────────────────┼────────────────────────┼───────────────┤\n",
              "│ flatten_2 (<span style=\"color: #0087ff; text-decoration-color: #0087ff\">Flatten</span>)             │ (<span style=\"color: #00d7ff; text-decoration-color: #00d7ff\">None</span>, <span style=\"color: #00af00; text-decoration-color: #00af00\">3136</span>)           │             <span style=\"color: #00af00; text-decoration-color: #00af00\">0</span> │\n",
              "├─────────────────────────────────┼────────────────────────┼───────────────┤\n",
              "│ dense_2 (<span style=\"color: #0087ff; text-decoration-color: #0087ff\">Dense</span>)                 │ (<span style=\"color: #00d7ff; text-decoration-color: #00d7ff\">None</span>, <span style=\"color: #00af00; text-decoration-color: #00af00\">10</span>)             │        <span style=\"color: #00af00; text-decoration-color: #00af00\">31,370</span> │\n",
              "└─────────────────────────────────┴────────────────────────┴───────────────┘\n",
              "</pre>\n"
            ]
          },
          "metadata": {}
        },
        {
          "output_type": "display_data",
          "data": {
            "text/plain": [
              "\u001b[1m Total params: \u001b[0m\u001b[38;5;34m50,186\u001b[0m (196.04 KB)\n"
            ],
            "text/html": [
              "<pre style=\"white-space:pre;overflow-x:auto;line-height:normal;font-family:Menlo,'DejaVu Sans Mono',consolas,'Courier New',monospace\"><span style=\"font-weight: bold\"> Total params: </span><span style=\"color: #00af00; text-decoration-color: #00af00\">50,186</span> (196.04 KB)\n",
              "</pre>\n"
            ]
          },
          "metadata": {}
        },
        {
          "output_type": "display_data",
          "data": {
            "text/plain": [
              "\u001b[1m Trainable params: \u001b[0m\u001b[38;5;34m50,186\u001b[0m (196.04 KB)\n"
            ],
            "text/html": [
              "<pre style=\"white-space:pre;overflow-x:auto;line-height:normal;font-family:Menlo,'DejaVu Sans Mono',consolas,'Courier New',monospace\"><span style=\"font-weight: bold\"> Trainable params: </span><span style=\"color: #00af00; text-decoration-color: #00af00\">50,186</span> (196.04 KB)\n",
              "</pre>\n"
            ]
          },
          "metadata": {}
        },
        {
          "output_type": "display_data",
          "data": {
            "text/plain": [
              "\u001b[1m Non-trainable params: \u001b[0m\u001b[38;5;34m0\u001b[0m (0.00 B)\n"
            ],
            "text/html": [
              "<pre style=\"white-space:pre;overflow-x:auto;line-height:normal;font-family:Menlo,'DejaVu Sans Mono',consolas,'Courier New',monospace\"><span style=\"font-weight: bold\"> Non-trainable params: </span><span style=\"color: #00af00; text-decoration-color: #00af00\">0</span> (0.00 B)\n",
              "</pre>\n"
            ]
          },
          "metadata": {}
        }
      ]
    },
    {
      "cell_type": "code",
      "source": [
        "def predict(model, image, num_classes):\n",
        "  ''' to predict new custom image '''\n",
        "  try:\n",
        "    img = Image.open(image).convert('L')\n",
        "    img = img.resize((28, 28))\n",
        "    # normalising (convert to numpy)\n",
        "    img_arr = np.array(img)\n",
        "    img_arr_normalised = img_arr.astype('float32') / 255.0\n",
        "    img_tensor = np.expand_dims(img_arr_normalised, axis=-1) # add channel dimension (from 28, 28 = (28,28,1)) for greyscale\n",
        "    img_tensor = np.expand_dims(img_tensor, axis=0) # batch dimension (add batch size (1, 28, 28, 1) : batch_size, ht, width, channels) to structure single image as batch of one bcs nn models are designed to process data in batches.\n",
        "  except Exception as e:\n",
        "    print(f\"Error processing image at path {image}: {e}\")\n",
        "    return None\n",
        "\n",
        "  prediction = model.predict(img_tensor)\n",
        "  predicted_class = np.argmax(prediction)\n",
        "  print(f\"Prediction for {Path(image).name}\")\n",
        "  print(\"Probabilities of Classes\")\n",
        "  for i, val in enumerate(prediction[0]):\n",
        "    print(f\"Class {i}: {val * 100: .2f}%\")\n",
        "\n",
        "  print(f\"Predicted Digit : {predicted_class}\")\n",
        "\n",
        "# for a batch\n",
        "def predict_on_MNIST_batch(model, images, labels, num_classes):\n",
        "  if not images.size:\n",
        "    print(\"No Images to process\")\n",
        "    return\n",
        "  img = np.expand_dims(images, axis=-1).astype('float32') / 255.0\n",
        "  predictions = model.predict(img)\n",
        "  for i, prediction in enumerate(predictions):\n",
        "    predicted_class = np.argmax(prediction)\n",
        "    true_label = labels[i]\n",
        "    print(f\"\\nPrediction for image {i+1} (True Label: {true_label})\")\n",
        "    print(\"Probabilities of Classes\")\n",
        "    for j, val in enumerate(prediction):\n",
        "      print(f\"Class {j}: {val * 100: .2f}%\")\n",
        "    print(f\"Predicted Digit : {predicted_class}\")\n"
      ],
      "metadata": {
        "id": "s1VjGXQHf3Yf"
      },
      "execution_count": 38,
      "outputs": []
    },
    {
      "cell_type": "code",
      "source": [
        "if __name__ == \"__main__\":\n",
        "  MODEL_FILENAME = \"model.h5\"\n",
        "  model_filepath = Path.cwd() / MODEL_FILENAME\n",
        "  if model_filepath.exists():\n",
        "    print(f\"loading pretrained model from {model_filepath}\")\n",
        "    model = models.load_model(model_filepath)\n",
        "  else:\n",
        "    print(\"training new model\")\n",
        "    history = model.fit(x_train_normalized, y_train_categorical, epochs=10, batch_size=32, validation_split=0.1)\n",
        "    model.save(model_filepath)\n",
        "    print(f\"Model saved to {model_filepath}\")"
      ],
      "metadata": {
        "colab": {
          "base_uri": "https://localhost:8080/"
        },
        "id": "rPCDwg-hiXr6",
        "outputId": "4250e5f5-932a-4b4b-ebfd-340e17e8e5b1"
      },
      "execution_count": 39,
      "outputs": [
        {
          "output_type": "stream",
          "name": "stderr",
          "text": [
            "WARNING:absl:Compiled the loaded model, but the compiled metrics have yet to be built. `model.compile_metrics` will be empty until you train or evaluate the model.\n"
          ]
        },
        {
          "output_type": "stream",
          "name": "stdout",
          "text": [
            "loading pretrained model from /content/model.h5\n"
          ]
        }
      ]
    },
    {
      "cell_type": "code",
      "source": [
        "\n",
        "sample_img_path = Path.cwd() / \"sample_digit.jpg\"\n",
        "predict(model, sample_img_path, 10)\n",
        "# Select batch of 10 images from test set\n",
        "num_test_images = 10\n",
        "test_images_batch = x_test[:num_test_images]\n",
        "test_labels_batch = y_test[:num_test_images]\n",
        "predict_on_MNIST_batch(model, test_images_batch, test_labels_batch, 10)"
      ],
      "metadata": {
        "colab": {
          "base_uri": "https://localhost:8080/"
        },
        "id": "0COZYWVpjSqz",
        "outputId": "f906a7d2-7d70-4318-ee31-f2082eedaf82"
      },
      "execution_count": 40,
      "outputs": [
        {
          "output_type": "stream",
          "name": "stderr",
          "text": [
            "WARNING:tensorflow:5 out of the last 9 calls to <function TensorFlowTrainer.make_predict_function.<locals>.one_step_on_data_distributed at 0x7aca349918a0> triggered tf.function retracing. Tracing is expensive and the excessive number of tracings could be due to (1) creating @tf.function repeatedly in a loop, (2) passing tensors with different shapes, (3) passing Python objects instead of tensors. For (1), please define your @tf.function outside of the loop. For (2), @tf.function has reduce_retracing=True option that can avoid unnecessary retracing. For (3), please refer to https://www.tensorflow.org/guide/function#controlling_retracing and https://www.tensorflow.org/api_docs/python/tf/function for  more details.\n"
          ]
        },
        {
          "output_type": "stream",
          "name": "stdout",
          "text": [
            "\u001b[1m1/1\u001b[0m \u001b[32m━━━━━━━━━━━━━━━━━━━━\u001b[0m\u001b[37m\u001b[0m \u001b[1m0s\u001b[0m 241ms/step\n",
            "Prediction for sample_digit.jpg\n",
            "Probabilities of Classes\n",
            "Class 0:  0.00%\n",
            "Class 1:  0.00%\n",
            "Class 2:  0.00%\n",
            "Class 3:  0.00%\n",
            "Class 4:  0.00%\n",
            "Class 5:  0.00%\n",
            "Class 6:  0.00%\n",
            "Class 7:  0.00%\n",
            "Class 8:  0.00%\n",
            "Class 9:  100.00%\n",
            "Predicted Digit : 9\n"
          ]
        },
        {
          "output_type": "stream",
          "name": "stderr",
          "text": [
            "WARNING:tensorflow:6 out of the last 10 calls to <function TensorFlowTrainer.make_predict_function.<locals>.one_step_on_data_distributed at 0x7aca349918a0> triggered tf.function retracing. Tracing is expensive and the excessive number of tracings could be due to (1) creating @tf.function repeatedly in a loop, (2) passing tensors with different shapes, (3) passing Python objects instead of tensors. For (1), please define your @tf.function outside of the loop. For (2), @tf.function has reduce_retracing=True option that can avoid unnecessary retracing. For (3), please refer to https://www.tensorflow.org/guide/function#controlling_retracing and https://www.tensorflow.org/api_docs/python/tf/function for  more details.\n"
          ]
        },
        {
          "output_type": "stream",
          "name": "stdout",
          "text": [
            "\u001b[1m1/1\u001b[0m \u001b[32m━━━━━━━━━━━━━━━━━━━━\u001b[0m\u001b[37m\u001b[0m \u001b[1m0s\u001b[0m 190ms/step\n",
            "\n",
            "Prediction for image 1 (True Label: 7)\n",
            "Probabilities of Classes\n",
            "Class 0:  0.00%\n",
            "Class 1:  0.00%\n",
            "Class 2:  0.00%\n",
            "Class 3:  0.00%\n",
            "Class 4:  0.00%\n",
            "Class 5:  0.00%\n",
            "Class 6:  0.00%\n",
            "Class 7:  100.00%\n",
            "Class 8:  0.00%\n",
            "Class 9:  0.00%\n",
            "Predicted Digit : 7\n",
            "\n",
            "Prediction for image 2 (True Label: 2)\n",
            "Probabilities of Classes\n",
            "Class 0:  0.00%\n",
            "Class 1:  0.00%\n",
            "Class 2:  100.00%\n",
            "Class 3:  0.00%\n",
            "Class 4:  0.00%\n",
            "Class 5:  0.00%\n",
            "Class 6:  0.00%\n",
            "Class 7:  0.00%\n",
            "Class 8:  0.00%\n",
            "Class 9:  0.00%\n",
            "Predicted Digit : 2\n",
            "\n",
            "Prediction for image 3 (True Label: 1)\n",
            "Probabilities of Classes\n",
            "Class 0:  0.00%\n",
            "Class 1:  100.00%\n",
            "Class 2:  0.00%\n",
            "Class 3:  0.00%\n",
            "Class 4:  0.00%\n",
            "Class 5:  0.00%\n",
            "Class 6:  0.00%\n",
            "Class 7:  0.00%\n",
            "Class 8:  0.00%\n",
            "Class 9:  0.00%\n",
            "Predicted Digit : 1\n",
            "\n",
            "Prediction for image 4 (True Label: 0)\n",
            "Probabilities of Classes\n",
            "Class 0:  100.00%\n",
            "Class 1:  0.00%\n",
            "Class 2:  0.00%\n",
            "Class 3:  0.00%\n",
            "Class 4:  0.00%\n",
            "Class 5:  0.00%\n",
            "Class 6:  0.00%\n",
            "Class 7:  0.00%\n",
            "Class 8:  0.00%\n",
            "Class 9:  0.00%\n",
            "Predicted Digit : 0\n",
            "\n",
            "Prediction for image 5 (True Label: 4)\n",
            "Probabilities of Classes\n",
            "Class 0:  0.00%\n",
            "Class 1:  0.00%\n",
            "Class 2:  0.00%\n",
            "Class 3:  0.00%\n",
            "Class 4:  100.00%\n",
            "Class 5:  0.00%\n",
            "Class 6:  0.00%\n",
            "Class 7:  0.00%\n",
            "Class 8:  0.00%\n",
            "Class 9:  0.00%\n",
            "Predicted Digit : 4\n",
            "\n",
            "Prediction for image 6 (True Label: 1)\n",
            "Probabilities of Classes\n",
            "Class 0:  0.00%\n",
            "Class 1:  100.00%\n",
            "Class 2:  0.00%\n",
            "Class 3:  0.00%\n",
            "Class 4:  0.00%\n",
            "Class 5:  0.00%\n",
            "Class 6:  0.00%\n",
            "Class 7:  0.00%\n",
            "Class 8:  0.00%\n",
            "Class 9:  0.00%\n",
            "Predicted Digit : 1\n",
            "\n",
            "Prediction for image 7 (True Label: 4)\n",
            "Probabilities of Classes\n",
            "Class 0:  0.00%\n",
            "Class 1:  0.00%\n",
            "Class 2:  0.00%\n",
            "Class 3:  0.00%\n",
            "Class 4:  100.00%\n",
            "Class 5:  0.00%\n",
            "Class 6:  0.00%\n",
            "Class 7:  0.00%\n",
            "Class 8:  0.00%\n",
            "Class 9:  0.00%\n",
            "Predicted Digit : 4\n",
            "\n",
            "Prediction for image 8 (True Label: 9)\n",
            "Probabilities of Classes\n",
            "Class 0:  0.00%\n",
            "Class 1:  0.00%\n",
            "Class 2:  0.00%\n",
            "Class 3:  0.00%\n",
            "Class 4:  0.00%\n",
            "Class 5:  0.00%\n",
            "Class 6:  0.00%\n",
            "Class 7:  0.00%\n",
            "Class 8:  0.00%\n",
            "Class 9:  100.00%\n",
            "Predicted Digit : 9\n",
            "\n",
            "Prediction for image 9 (True Label: 5)\n",
            "Probabilities of Classes\n",
            "Class 0:  0.00%\n",
            "Class 1:  0.00%\n",
            "Class 2:  0.00%\n",
            "Class 3:  0.00%\n",
            "Class 4:  0.00%\n",
            "Class 5:  100.00%\n",
            "Class 6:  0.00%\n",
            "Class 7:  0.00%\n",
            "Class 8:  0.00%\n",
            "Class 9:  0.00%\n",
            "Predicted Digit : 5\n",
            "\n",
            "Prediction for image 10 (True Label: 9)\n",
            "Probabilities of Classes\n",
            "Class 0:  0.00%\n",
            "Class 1:  0.00%\n",
            "Class 2:  0.00%\n",
            "Class 3:  0.00%\n",
            "Class 4:  0.00%\n",
            "Class 5:  0.00%\n",
            "Class 6:  0.00%\n",
            "Class 7:  0.00%\n",
            "Class 8:  0.00%\n",
            "Class 9:  100.00%\n",
            "Predicted Digit : 9\n"
          ]
        }
      ]
    },
    {
      "cell_type": "code",
      "source": [
        "# Generating Graph for loss and accuracy\n",
        "# Accuracy\n",
        "plt.figure(figsize=(12, 4))\n",
        "plt.subplot(1, 2, 1)\n",
        "plt.plot(history.history['accuracy'], label='Training Accuracy')\n",
        "plt.plot(history.history['val_accuracy'], label='Accuracy')\n",
        "plt.title(\"Model Accuracy\")\n",
        "plt.xlabel('Epochs')\n",
        "plt.ylabel('Accuracy')\n",
        "plt.legend(['Train', 'Validation'], loc='upper left')\n",
        "\n",
        "# Loss\n",
        "plt.subplot(1, 2, 2)\n",
        "plt.plot(history.history['loss'], label='Training Loss')\n",
        "plt.plot(history.history['val_loss'], label='Loss')\n",
        "plt.title(\"Model Loss\")\n",
        "plt.xlabel('Epochs')\n",
        "plt.ylabel('Loss')\n",
        "plt.legend(['Train', 'Validation'], loc='upper left')\n",
        "\n",
        "plt.tight_layout()\n",
        "plt.show()"
      ],
      "metadata": {
        "colab": {
          "base_uri": "https://localhost:8080/",
          "height": 407
        },
        "id": "8xW9467ikA9p",
        "outputId": "d06e39ba-794c-4542-a6e2-3ac7696c62dd"
      },
      "execution_count": 41,
      "outputs": [
        {
          "output_type": "display_data",
          "data": {
            "text/plain": [
              "<Figure size 1200x400 with 2 Axes>"
            ],
            "image/png": "[encoded data removed]"
          },
          "metadata": {}
        }
      ]
    },
    {
      "cell_type": "code",
      "source": [],
      "metadata": {
        "id": "SNt9YxB7li6a"
      },
      "execution_count": 41,
      "outputs": []
    }
  ]
}